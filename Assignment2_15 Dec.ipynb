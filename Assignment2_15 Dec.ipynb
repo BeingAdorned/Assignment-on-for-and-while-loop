{
 "cells": [
  {
   "cell_type": "code",
   "execution_count": 2,
   "id": "71f70b8d-83e5-4378-8579-03ed916a77d5",
   "metadata": {},
   "outputs": [
    {
     "name": "stdin",
     "output_type": "stream",
     "text": [
      "Enter an integer: 123144123\n"
     ]
    },
    {
     "name": "stdout",
     "output_type": "stream",
     "text": [
      "Odd integer\n"
     ]
    }
   ],
   "source": [
    "a=int(input(\"Enter an integer:\"))\n",
    "if a%2==0:\n",
    "    print(\"Even integer\")\n",
    "else:\n",
    "    print(\"Odd integer\")"
   ]
  },
  {
   "cell_type": "code",
   "execution_count": 6,
   "id": "8d57f2c2-1c89-483c-a5b7-f55ffc652aee",
   "metadata": {},
   "outputs": [
    {
     "name": "stdin",
     "output_type": "stream",
     "text": [
      "Enter an alphabet: g\n"
     ]
    },
    {
     "name": "stdout",
     "output_type": "stream",
     "text": [
      "Lowercase letter\n"
     ]
    }
   ],
   "source": [
    "a=input(\"Enter an alphabet:\")\n",
    "if \"A\" <= a[0] <= \"Z\":\n",
    "    print(\"Capital letter\")\n",
    "else:\n",
    "    print(\"Lowercase letter\")"
   ]
  },
  {
   "cell_type": "code",
   "execution_count": 20,
   "id": "11b33e1b-80b4-46c7-9169-8e17dffbe9b4",
   "metadata": {},
   "outputs": [
    {
     "name": "stdin",
     "output_type": "stream",
     "text": [
      "Enter anything: *\n"
     ]
    },
    {
     "name": "stdout",
     "output_type": "stream",
     "text": [
      "Special symbol\n"
     ]
    }
   ],
   "source": [
    "a=input(\"Enter anything:\")\n",
    "if \"A\" <= a[0] <= \"Z\":\n",
    "    print(\"Capital letter\")\n",
    "elif \"a\" <= a[0] <= \"z\":\n",
    "    print(\"Lowercase letter\")\n",
    "elif a[0].isdigit() :\n",
    "    print(\"Number\")\n",
    "else:\n",
    "    print(\"Special symbol\")"
   ]
  },
  {
   "cell_type": "code",
   "execution_count": 29,
   "id": "ac1e5572-ab0a-4bb0-9588-54467a5efc01",
   "metadata": {},
   "outputs": [
    {
     "name": "stdin",
     "output_type": "stream",
     "text": [
      "Enter 3 numbers with space: 32 31 5656\n"
     ]
    },
    {
     "name": "stdout",
     "output_type": "stream",
     "text": [
      "Greatest digit is 5656\n"
     ]
    }
   ],
   "source": [
    "a,b,c=map(int,input(\"Enter 3 numbers with space:\").split())\n",
    "if a>b:\n",
    "    if a>c:\n",
    "        greatest = a\n",
    "    else:\n",
    "        greatest = c\n",
    "else:\n",
    "    if b>c:\n",
    "        greatest = b\n",
    "    else:\n",
    "        greatest = c\n",
    "print(\"Greatest digit is\", greatest)\n",
    "        "
   ]
  },
  {
   "cell_type": "code",
   "execution_count": 7,
   "id": "aa3defe3-59e1-453a-8a4a-80a6c4ff76d7",
   "metadata": {},
   "outputs": [
    {
     "name": "stdin",
     "output_type": "stream",
     "text": [
      "Enter an year: 2100\n"
     ]
    },
    {
     "name": "stdout",
     "output_type": "stream",
     "text": [
      "2100 is not a leap year\n"
     ]
    }
   ],
   "source": [
    "a=int(input(\"Enter an year:\"))\n",
    "if (a%4==0 and a%100 != 0) or a%400==0:\n",
    "    print(\"%i is a leap year\" %a)\n",
    "else:\n",
    "    print(\"%i is not a leap year\" %a)"
   ]
  },
  {
   "cell_type": "markdown",
   "id": "87920453-93b4-48f7-b474-3f8561ea06bf",
   "metadata": {},
   "source": [
    "# Number guessing game\n"
   ]
  },
  {
   "cell_type": "code",
   "execution_count": 21,
   "id": "73948030-8cb6-4f39-95cc-9e5d81eaeffe",
   "metadata": {},
   "outputs": [
    {
     "name": "stdin",
     "output_type": "stream",
     "text": [
      "Guess a number between 1 and 100: 25\n"
     ]
    },
    {
     "name": "stdout",
     "output_type": "stream",
     "text": [
      "Number too large\n"
     ]
    },
    {
     "name": "stdin",
     "output_type": "stream",
     "text": [
      "Guess a number between 1 and 100: 10\n"
     ]
    },
    {
     "name": "stdout",
     "output_type": "stream",
     "text": [
      "Number too large\n"
     ]
    },
    {
     "name": "stdin",
     "output_type": "stream",
     "text": [
      "Guess a number between 1 and 100: 5\n"
     ]
    },
    {
     "name": "stdout",
     "output_type": "stream",
     "text": [
      "Number too large\n"
     ]
    },
    {
     "name": "stdin",
     "output_type": "stream",
     "text": [
      "Guess a number between 1 and 100: 3\n"
     ]
    },
    {
     "name": "stdout",
     "output_type": "stream",
     "text": [
      "Congratulations! You guessed it right\n"
     ]
    }
   ],
   "source": [
    "import random\n",
    "\n",
    "random_integer=random.randint(1,100)\n",
    "\n",
    "while random_integer !=a:\n",
    "    a=int(input(\"Guess a number between 1 and 100:\"))\n",
    "    if random_integer > a and a!= 0 and not a <0 :\n",
    "        print(\"Number too small\")\n",
    "    if random_integer < a:\n",
    "        print(\"Number too large\")\n",
    "    if a <= 0:\n",
    "        print(\"I quit\")\n",
    "        break\n",
    "else:\n",
    "    print(\"Congratulations! You guessed it right\")"
   ]
  },
  {
   "cell_type": "code",
   "execution_count": 35,
   "id": "e87a4921-39ab-4ef2-b0d0-851b31fce230",
   "metadata": {},
   "outputs": [
    {
     "name": "stdin",
     "output_type": "stream",
     "text": [
      "Enter any word: Adon Mathew\n"
     ]
    },
    {
     "name": "stdout",
     "output_type": "stream",
     "text": [
      "d\n",
      "n\n",
      " \n",
      "M\n",
      "t\n",
      "h\n",
      "w\n"
     ]
    }
   ],
   "source": [
    "a=input(\"Enter any word:\")\n",
    "i=0\n",
    "\n",
    "while i<len(a):\n",
    "    if a[i] not in (\"aeiouAEIOU\"):\n",
    "        print(a[i])\n",
    "    i=i+1\n",
    "   "
   ]
  },
  {
   "cell_type": "code",
   "execution_count": 9,
   "id": "f883315b-0b8e-4a54-80c0-71b902781fb8",
   "metadata": {},
   "outputs": [
    {
     "name": "stdin",
     "output_type": "stream",
     "text": [
      "Enter any number: 21\n",
      "Enter any number: 2\n",
      "Enter any number: 3\n",
      "Enter any number: -5\n",
      "Enter any number: -5\n",
      "Enter any number: 0\n"
     ]
    },
    {
     "name": "stdout",
     "output_type": "stream",
     "text": [
      "Sum is 26\n"
     ]
    }
   ],
   "source": [
    "sum=0\n",
    "while True:\n",
    "    a=int(input(\"Enter any number:\"))\n",
    "    if a==0:\n",
    "        break\n",
    "    if a<0:\n",
    "        continue\n",
    "    sum+=a\n",
    "print(\"Sum is\",sum)"
   ]
  },
  {
   "cell_type": "code",
   "execution_count": 17,
   "id": "554995e7-a62a-47f7-a374-932f385b137c",
   "metadata": {},
   "outputs": [
    {
     "name": "stdin",
     "output_type": "stream",
     "text": [
      "Enter any word: Adon Mathew\n"
     ]
    },
    {
     "name": "stdout",
     "output_type": "stream",
     "text": [
      "d\n",
      "n\n",
      " \n",
      "M\n",
      "t\n",
      "h\n",
      "w\n"
     ]
    }
   ],
   "source": [
    "a=input(\"Enter any word:\")\n",
    "\n",
    "for i in a:\n",
    "    if i not in (\"aeiouAEIOU\"):\n",
    "        print(i)"
   ]
  },
  {
   "cell_type": "code",
   "execution_count": 14,
   "id": "d8b3eb63-b356-4e90-a26d-9d60813ac57c",
   "metadata": {},
   "outputs": [
    {
     "name": "stdin",
     "output_type": "stream",
     "text": [
      "Enter a digit: 10\n"
     ]
    },
    {
     "name": "stdout",
     "output_type": "stream",
     "text": [
      "Sum from 1 to 10 is 55.0\n"
     ]
    }
   ],
   "source": [
    "a=int(input(\"Enter a digit:\"))\n",
    "b=a*(a+1)/2\n",
    "print(\"Sum from 1 to %i is\"%a,b)"
   ]
  },
  {
   "cell_type": "code",
   "execution_count": 23,
   "id": "9d18718b-96d7-4d6a-bd27-5f9cb2d5f7ca",
   "metadata": {},
   "outputs": [
    {
     "name": "stdin",
     "output_type": "stream",
     "text": [
      "Enter a digit: 5\n"
     ]
    },
    {
     "name": "stdout",
     "output_type": "stream",
     "text": [
      "Factorial of 5 is 120\n"
     ]
    }
   ],
   "source": [
    "n=int(input(\"Enter a digit:\"))\n",
    "result=1\n",
    "i=1\n",
    "\n",
    "while i<=n:\n",
    "    result=result*i\n",
    "    i=i+1\n",
    "print(\"Factorial of\",n,\"is\",result)"
   ]
  },
  {
   "cell_type": "markdown",
   "id": "d3bb1ee8-3543-466d-8d38-03f26a40a8e3",
   "metadata": {},
   "source": [
    "# PATTERN PROBLEMS\n"
   ]
  },
  {
   "cell_type": "code",
   "execution_count": 19,
   "id": "71a589db-4cbc-4136-a73a-13b766c598ad",
   "metadata": {},
   "outputs": [
    {
     "name": "stdout",
     "output_type": "stream",
     "text": [
      "* * * \n",
      "* * * \n",
      "* * * \n",
      "* * * \n"
     ]
    }
   ],
   "source": [
    "for i in range(4):\n",
    "    for j in range(3):\n",
    "        print(\"*\",end=\" \")\n",
    "    print()"
   ]
  },
  {
   "cell_type": "code",
   "execution_count": 28,
   "id": "ec377b77-10d5-44ee-a97b-1c8d716fe5e4",
   "metadata": {},
   "outputs": [
    {
     "name": "stdout",
     "output_type": "stream",
     "text": [
      "* \n",
      "* * \n",
      "* * * \n",
      "* * * * \n"
     ]
    }
   ],
   "source": [
    "for i in range(4):\n",
    "    for j in range(i+1):\n",
    "        print(\"*\", end =\" \")\n",
    "    print()"
   ]
  },
  {
   "cell_type": "code",
   "execution_count": null,
   "id": "c8504876-6eb1-472d-860e-7e94630bd4a1",
   "metadata": {},
   "outputs": [],
   "source": [
    "for i in range(4):\n",
    "    for j in range(4-i):\n",
    "        print(\"*\", end=\" \")\n",
    "    print"
   ]
  },
  {
   "cell_type": "code",
   "execution_count": 32,
   "id": "e10dc672-b304-42ab-b414-87181de560c5",
   "metadata": {},
   "outputs": [
    {
     "name": "stdin",
     "output_type": "stream",
     "text": [
      "Enter an integer: 3\n"
     ]
    },
    {
     "name": "stdout",
     "output_type": "stream",
     "text": [
      "1 2 3 "
     ]
    },
    {
     "name": "stdin",
     "output_type": "stream",
     "text": [
      "Enter an integer: 5\n"
     ]
    },
    {
     "name": "stdout",
     "output_type": "stream",
     "text": [
      "1 2 3 4 5 "
     ]
    },
    {
     "name": "stdin",
     "output_type": "stream",
     "text": [
      "Enter an integer: 7\n"
     ]
    },
    {
     "name": "stdout",
     "output_type": "stream",
     "text": [
      "1 2 3 4 5 6 7 "
     ]
    },
    {
     "name": "stdin",
     "output_type": "stream",
     "text": [
      "Enter an integer: 0\n"
     ]
    }
   ],
   "source": [
    "while True:\n",
    "    n=int(input(\"Enter an integer:\"))\n",
    "    if n==0:\n",
    "        break\n",
    "    i=1\n",
    "    while i<=n:\n",
    "        print(i,end=\" \")\n",
    "        i=i+1"
   ]
  },
  {
   "cell_type": "code",
   "execution_count": null,
   "id": "735a0639-0ab0-456c-ba4b-b43cd6242e9f",
   "metadata": {},
   "outputs": [],
   "source": []
  }
 ],
 "metadata": {
  "kernelspec": {
   "display_name": "Python 3 (ipykernel)",
   "language": "python",
   "name": "python3"
  },
  "language_info": {
   "codemirror_mode": {
    "name": "ipython",
    "version": 3
   },
   "file_extension": ".py",
   "mimetype": "text/x-python",
   "name": "python",
   "nbconvert_exporter": "python",
   "pygments_lexer": "ipython3",
   "version": "3.10.6"
  }
 },
 "nbformat": 4,
 "nbformat_minor": 5
}
